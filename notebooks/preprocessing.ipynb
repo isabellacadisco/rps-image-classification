{
  "cells": [
    {
      "cell_type": "code",
      "execution_count": 1,
      "id": "2c55753d",
      "metadata": {
        "colab": {
          "base_uri": "https://localhost:8080/"
        },
        "id": "2c55753d",
        "outputId": "f331c538-3a0f-4116-ee4c-f9434de5651d"
      },
      "outputs": [
        {
          "output_type": "stream",
          "name": "stdout",
          "text": [
            "/content\n"
          ]
        }
      ],
      "source": [
        "import os\n",
        "\n",
        "print(os.getcwd())"
      ]
    },
    {
      "cell_type": "code",
      "source": [
        "# --- Fix per autoreload su Python 3.12 (Colab) ---\n",
        "import sys, importlib, IPython\n",
        "\n",
        "# Espone importlib come se fosse il vecchio modulo 'imp'\n",
        "sys.modules.setdefault(\"imp\", importlib)\n",
        "\n",
        "ip = IPython.get_ipython()\n",
        "ip.extension_manager.load_extension(\"autoreload\")\n",
        "ip.run_line_magic(\"autoreload\", \"2\")\n"
      ],
      "metadata": {
        "id": "abHVC61YqErM"
      },
      "id": "abHVC61YqErM",
      "execution_count": 12,
      "outputs": []
    },
    {
      "cell_type": "code",
      "source": [
        "from importlib import reload\n",
        "import rps_classification.dataset as dataset\n",
        "reload(dataset)  # ricarica manualmente il modulo\n"
      ],
      "metadata": {
        "id": "3lL3Tv7pqSc_",
        "outputId": "5eda6bcb-6aec-47db-f31f-0662433eeb3f",
        "colab": {
          "base_uri": "https://localhost:8080/"
        }
      },
      "id": "3lL3Tv7pqSc_",
      "execution_count": 14,
      "outputs": [
        {
          "output_type": "execute_result",
          "data": {
            "text/plain": [
              "<module 'rps_classification.dataset' from '/content/rps-classification/rps_classification/dataset.py'>"
            ]
          },
          "metadata": {},
          "execution_count": 14
        }
      ]
    },
    {
      "cell_type": "code",
      "execution_count": 2,
      "id": "c6fb2bcd",
      "metadata": {
        "id": "c6fb2bcd"
      },
      "outputs": [],
      "source": [
        "import sys\n",
        "sys.path.append('/content/rps-classification')  # path del repo"
      ]
    },
    {
      "cell_type": "code",
      "source": [
        "# 1) Vai nella root di Colab\n",
        "%cd /content"
      ],
      "metadata": {
        "colab": {
          "base_uri": "https://localhost:8080/"
        },
        "id": "aQkmBj8TLCz5",
        "outputId": "bce1654a-1fae-44c9-e597-b98e9ffba161"
      },
      "id": "aQkmBj8TLCz5",
      "execution_count": 3,
      "outputs": [
        {
          "output_type": "stream",
          "name": "stdout",
          "text": [
            "/content\n"
          ]
        }
      ]
    },
    {
      "cell_type": "code",
      "source": [
        "# 2) Clona il repo (branch dev)\n",
        "!rm -rf rps-classification\n",
        "!git clone --branch dev https://github.com/isabellacadisco/rps-classification.git\n",
        "%cd rps-classification"
      ],
      "metadata": {
        "colab": {
          "base_uri": "https://localhost:8080/"
        },
        "id": "AldP1UKTLEy0",
        "outputId": "2558930d-63f6-40be-bef1-5d04fce629fb"
      },
      "id": "AldP1UKTLEy0",
      "execution_count": 4,
      "outputs": [
        {
          "output_type": "stream",
          "name": "stdout",
          "text": [
            "Cloning into 'rps-classification'...\n",
            "remote: Enumerating objects: 49, done.\u001b[K\n",
            "remote: Counting objects: 100% (49/49), done.\u001b[K\n",
            "remote: Compressing objects: 100% (36/36), done.\u001b[K\n",
            "remote: Total 49 (delta 15), reused 42 (delta 10), pack-reused 0 (from 0)\u001b[K\n",
            "Receiving objects: 100% (49/49), 46.81 KiB | 1.04 MiB/s, done.\n",
            "Resolving deltas: 100% (15/15), done.\n",
            "/content/rps-classification\n"
          ]
        }
      ]
    },
    {
      "cell_type": "code",
      "source": [
        "# 3) Installa dipendenze e il pacchetto in modalità editable\n",
        "!pip install -U pip\n",
        "!pip install -e ."
      ],
      "metadata": {
        "colab": {
          "base_uri": "https://localhost:8080/"
        },
        "id": "S-qJ4xWOLGeF",
        "outputId": "1bd26e95-fea2-4fdc-9285-6a04ab863d3b"
      },
      "id": "S-qJ4xWOLGeF",
      "execution_count": 5,
      "outputs": [
        {
          "output_type": "stream",
          "name": "stdout",
          "text": [
            "Requirement already satisfied: pip in /usr/local/lib/python3.12/dist-packages (24.1.2)\n",
            "Collecting pip\n",
            "  Downloading pip-25.2-py3-none-any.whl.metadata (4.7 kB)\n",
            "Downloading pip-25.2-py3-none-any.whl (1.8 MB)\n",
            "\u001b[2K   \u001b[90m━━━━━━━━━━━━━━━━━━━━━━━━━━━━━━━━━━━━━━━━\u001b[0m \u001b[32m1.8/1.8 MB\u001b[0m \u001b[31m17.2 MB/s\u001b[0m eta \u001b[36m0:00:00\u001b[0m\n",
            "\u001b[?25hInstalling collected packages: pip\n",
            "  Attempting uninstall: pip\n",
            "    Found existing installation: pip 24.1.2\n",
            "    Uninstalling pip-24.1.2:\n",
            "      Successfully uninstalled pip-24.1.2\n",
            "Successfully installed pip-25.2\n",
            "Obtaining file:///content/rps-classification\n",
            "  Installing build dependencies ... \u001b[?25l\u001b[?25hdone\n",
            "  Checking if build backend supports build_editable ... \u001b[?25l\u001b[?25hdone\n",
            "  Getting requirements to build editable ... \u001b[?25l\u001b[?25hdone\n",
            "  Preparing editable metadata (pyproject.toml) ... \u001b[?25l\u001b[?25hdone\n",
            "Collecting loguru (from rps_classification==0.0.1)\n",
            "  Downloading loguru-0.7.3-py3-none-any.whl.metadata (22 kB)\n",
            "Collecting mkdocs (from rps_classification==0.0.1)\n",
            "  Downloading mkdocs-1.6.1-py3-none-any.whl.metadata (6.0 kB)\n",
            "Collecting pandas>=2.3.3 (from rps_classification==0.0.1)\n",
            "  Downloading pandas-2.3.3-cp312-cp312-manylinux_2_24_x86_64.manylinux_2_28_x86_64.whl.metadata (91 kB)\n",
            "Requirement already satisfied: pip in /usr/local/lib/python3.12/dist-packages (from rps_classification==0.0.1) (25.2)\n",
            "Requirement already satisfied: pytest in /usr/local/lib/python3.12/dist-packages (from rps_classification==0.0.1) (8.4.2)\n",
            "Requirement already satisfied: python-dotenv in /usr/local/lib/python3.12/dist-packages (from rps_classification==0.0.1) (1.1.1)\n",
            "Requirement already satisfied: ruff in /usr/local/lib/python3.12/dist-packages (from rps_classification==0.0.1) (0.14.0)\n",
            "Requirement already satisfied: tqdm in /usr/local/lib/python3.12/dist-packages (from rps_classification==0.0.1) (4.67.1)\n",
            "Requirement already satisfied: typer in /usr/local/lib/python3.12/dist-packages (from rps_classification==0.0.1) (0.19.2)\n",
            "Requirement already satisfied: numpy>=1.26.0 in /usr/local/lib/python3.12/dist-packages (from pandas>=2.3.3->rps_classification==0.0.1) (2.0.2)\n",
            "Requirement already satisfied: python-dateutil>=2.8.2 in /usr/local/lib/python3.12/dist-packages (from pandas>=2.3.3->rps_classification==0.0.1) (2.9.0.post0)\n",
            "Requirement already satisfied: pytz>=2020.1 in /usr/local/lib/python3.12/dist-packages (from pandas>=2.3.3->rps_classification==0.0.1) (2025.2)\n",
            "Requirement already satisfied: tzdata>=2022.7 in /usr/local/lib/python3.12/dist-packages (from pandas>=2.3.3->rps_classification==0.0.1) (2025.2)\n",
            "Requirement already satisfied: six>=1.5 in /usr/local/lib/python3.12/dist-packages (from python-dateutil>=2.8.2->pandas>=2.3.3->rps_classification==0.0.1) (1.17.0)\n",
            "Requirement already satisfied: click>=7.0 in /usr/local/lib/python3.12/dist-packages (from mkdocs->rps_classification==0.0.1) (8.3.0)\n",
            "Collecting ghp-import>=1.0 (from mkdocs->rps_classification==0.0.1)\n",
            "  Downloading ghp_import-2.1.0-py3-none-any.whl.metadata (7.2 kB)\n",
            "Requirement already satisfied: jinja2>=2.11.1 in /usr/local/lib/python3.12/dist-packages (from mkdocs->rps_classification==0.0.1) (3.1.6)\n",
            "Requirement already satisfied: markdown>=3.3.6 in /usr/local/lib/python3.12/dist-packages (from mkdocs->rps_classification==0.0.1) (3.9)\n",
            "Requirement already satisfied: markupsafe>=2.0.1 in /usr/local/lib/python3.12/dist-packages (from mkdocs->rps_classification==0.0.1) (3.0.3)\n",
            "Collecting mergedeep>=1.3.4 (from mkdocs->rps_classification==0.0.1)\n",
            "  Downloading mergedeep-1.3.4-py3-none-any.whl.metadata (4.3 kB)\n",
            "Collecting mkdocs-get-deps>=0.2.0 (from mkdocs->rps_classification==0.0.1)\n",
            "  Downloading mkdocs_get_deps-0.2.0-py3-none-any.whl.metadata (4.0 kB)\n",
            "Requirement already satisfied: packaging>=20.5 in /usr/local/lib/python3.12/dist-packages (from mkdocs->rps_classification==0.0.1) (25.0)\n",
            "Collecting pathspec>=0.11.1 (from mkdocs->rps_classification==0.0.1)\n",
            "  Downloading pathspec-0.12.1-py3-none-any.whl.metadata (21 kB)\n",
            "Collecting pyyaml-env-tag>=0.1 (from mkdocs->rps_classification==0.0.1)\n",
            "  Downloading pyyaml_env_tag-1.1-py3-none-any.whl.metadata (5.5 kB)\n",
            "Requirement already satisfied: pyyaml>=5.1 in /usr/local/lib/python3.12/dist-packages (from mkdocs->rps_classification==0.0.1) (6.0.3)\n",
            "Requirement already satisfied: watchdog>=2.0 in /usr/local/lib/python3.12/dist-packages (from mkdocs->rps_classification==0.0.1) (6.0.0)\n",
            "Requirement already satisfied: platformdirs>=2.2.0 in /usr/local/lib/python3.12/dist-packages (from mkdocs-get-deps>=0.2.0->mkdocs->rps_classification==0.0.1) (4.5.0)\n",
            "Requirement already satisfied: iniconfig>=1 in /usr/local/lib/python3.12/dist-packages (from pytest->rps_classification==0.0.1) (2.1.0)\n",
            "Requirement already satisfied: pluggy<2,>=1.5 in /usr/local/lib/python3.12/dist-packages (from pytest->rps_classification==0.0.1) (1.6.0)\n",
            "Requirement already satisfied: pygments>=2.7.2 in /usr/local/lib/python3.12/dist-packages (from pytest->rps_classification==0.0.1) (2.19.2)\n",
            "Requirement already satisfied: typing-extensions>=3.7.4.3 in /usr/local/lib/python3.12/dist-packages (from typer->rps_classification==0.0.1) (4.15.0)\n",
            "Requirement already satisfied: shellingham>=1.3.0 in /usr/local/lib/python3.12/dist-packages (from typer->rps_classification==0.0.1) (1.5.4)\n",
            "Requirement already satisfied: rich>=10.11.0 in /usr/local/lib/python3.12/dist-packages (from typer->rps_classification==0.0.1) (13.9.4)\n",
            "Requirement already satisfied: markdown-it-py>=2.2.0 in /usr/local/lib/python3.12/dist-packages (from rich>=10.11.0->typer->rps_classification==0.0.1) (4.0.0)\n",
            "Requirement already satisfied: mdurl~=0.1 in /usr/local/lib/python3.12/dist-packages (from markdown-it-py>=2.2.0->rich>=10.11.0->typer->rps_classification==0.0.1) (0.1.2)\n",
            "Downloading pandas-2.3.3-cp312-cp312-manylinux_2_24_x86_64.manylinux_2_28_x86_64.whl (12.4 MB)\n",
            "\u001b[2K   \u001b[90m━━━━━━━━━━━━━━━━━━━━━━━━━━━━━━━━━━━━━━━━\u001b[0m \u001b[32m12.4/12.4 MB\u001b[0m \u001b[31m70.9 MB/s\u001b[0m  \u001b[33m0:00:00\u001b[0m\n",
            "\u001b[?25hDownloading loguru-0.7.3-py3-none-any.whl (61 kB)\n",
            "Downloading mkdocs-1.6.1-py3-none-any.whl (3.9 MB)\n",
            "\u001b[2K   \u001b[90m━━━━━━━━━━━━━━━━━━━━━━━━━━━━━━━━━━━━━━━━\u001b[0m \u001b[32m3.9/3.9 MB\u001b[0m \u001b[31m103.3 MB/s\u001b[0m  \u001b[33m0:00:00\u001b[0m\n",
            "\u001b[?25hDownloading ghp_import-2.1.0-py3-none-any.whl (11 kB)\n",
            "Downloading mergedeep-1.3.4-py3-none-any.whl (6.4 kB)\n",
            "Downloading mkdocs_get_deps-0.2.0-py3-none-any.whl (9.5 kB)\n",
            "Downloading pathspec-0.12.1-py3-none-any.whl (31 kB)\n",
            "Downloading pyyaml_env_tag-1.1-py3-none-any.whl (4.7 kB)\n",
            "Building wheels for collected packages: rps_classification\n",
            "  Building editable for rps_classification (pyproject.toml) ... \u001b[?25l\u001b[?25hdone\n",
            "  Created wheel for rps_classification: filename=rps_classification-0.0.1-py3-none-any.whl size=3131 sha256=0697806e9d56c226d7dea953dc5833fcfb2bf0c18b33195ee12509b3f37a0ab4\n",
            "  Stored in directory: /tmp/pip-ephem-wheel-cache-o5dr9uwe/wheels/2c/34/87/ed171cd2858b812f503af813b182ed2e59e32fbe091c085611\n",
            "Successfully built rps_classification\n",
            "Installing collected packages: pyyaml-env-tag, pathspec, mergedeep, loguru, pandas, mkdocs-get-deps, ghp-import, mkdocs, rps_classification\n",
            "\u001b[2K  Attempting uninstall: pandas\n",
            "\u001b[2K    Found existing installation: pandas 2.2.2\n",
            "\u001b[2K    Uninstalling pandas-2.2.2:\n",
            "\u001b[2K      Successfully uninstalled pandas-2.2.2\n",
            "\u001b[2K   \u001b[90m━━━━━━━━━━━━━━━━━━━━━━━━━━━━━━━━━━━━━━━━\u001b[0m \u001b[32m9/9\u001b[0m [rps_classification]\n",
            "\u001b[1A\u001b[2K\u001b[31mERROR: pip's dependency resolver does not currently take into account all the packages that are installed. This behaviour is the source of the following dependency conflicts.\n",
            "google-colab 1.0.0 requires pandas==2.2.2, but you have pandas 2.3.3 which is incompatible.\n",
            "cudf-cu12 25.6.0 requires pandas<2.2.4dev0,>=2.0, but you have pandas 2.3.3 which is incompatible.\n",
            "dask-cudf-cu12 25.6.0 requires pandas<2.2.4dev0,>=2.0, but you have pandas 2.3.3 which is incompatible.\u001b[0m\u001b[31m\n",
            "\u001b[0mSuccessfully installed ghp-import-2.1.0 loguru-0.7.3 mergedeep-1.3.4 mkdocs-1.6.1 mkdocs-get-deps-0.2.0 pandas-2.3.3 pathspec-0.12.1 pyyaml-env-tag-1.1 rps_classification-0.0.1\n"
          ]
        }
      ]
    },
    {
      "cell_type": "code",
      "execution_count": 6,
      "id": "dcc57f69",
      "metadata": {
        "colab": {
          "base_uri": "https://localhost:8080/"
        },
        "id": "dcc57f69",
        "outputId": "77dd98ec-5b51-4871-8416-ba4b9757b628"
      },
      "outputs": [
        {
          "output_type": "stream",
          "name": "stderr",
          "text": [
            "\u001b[32m2025-10-16 20:04:43.963\u001b[0m | \u001b[1mINFO    \u001b[0m | \u001b[36mrps_classification.config\u001b[0m:\u001b[36m<module>\u001b[0m:\u001b[36m11\u001b[0m - \u001b[1mPROJ_ROOT path is: /content/rps-classification\u001b[0m\n"
          ]
        },
        {
          "output_type": "stream",
          "name": "stdout",
          "text": [
            "Hello Marta!\n"
          ]
        }
      ],
      "source": [
        "# 5) Ora gli import funzionano\n",
        "from rps_classification.dataset import hello\n",
        "hello(\"Marta\")"
      ]
    },
    {
      "cell_type": "code",
      "source": [
        "from rps_classification.dataset import night\n",
        "night(\"Marta\")"
      ],
      "metadata": {
        "id": "WjfWZ9D7Ndee",
        "outputId": "6ef18b50-e437-46fd-800f-00b08a1914f6",
        "colab": {
          "base_uri": "https://localhost:8080/"
        }
      },
      "id": "WjfWZ9D7Ndee",
      "execution_count": 8,
      "outputs": [
        {
          "output_type": "stream",
          "name": "stdout",
          "text": [
            "Night Marta!\n"
          ]
        }
      ]
    },
    {
      "cell_type": "code",
      "execution_count": 9,
      "id": "0c04dd1d",
      "metadata": {
        "colab": {
          "base_uri": "https://localhost:8080/"
        },
        "id": "0c04dd1d",
        "outputId": "4e6d58a3-159b-4f0d-9192-e5c17a3b55aa"
      },
      "outputs": [
        {
          "output_type": "stream",
          "name": "stdout",
          "text": [
            "Hello World!\n"
          ]
        }
      ],
      "source": [
        "hello()"
      ]
    },
    {
      "cell_type": "code",
      "execution_count": 10,
      "id": "6838711b",
      "metadata": {
        "colab": {
          "base_uri": "https://localhost:8080/"
        },
        "id": "6838711b",
        "outputId": "6e9cdb7e-2a29-4bdb-f9e3-ed8424e9c75c"
      },
      "outputs": [
        {
          "output_type": "stream",
          "name": "stdout",
          "text": [
            "Night World!\n"
          ]
        }
      ],
      "source": [
        "night()"
      ]
    },
    {
      "cell_type": "code",
      "execution_count": 15,
      "id": "e5b5889d",
      "metadata": {
        "id": "e5b5889d"
      },
      "outputs": [],
      "source": [
        "from rps_classification.dataset import icry"
      ]
    },
    {
      "cell_type": "code",
      "source": [
        "icry()"
      ],
      "metadata": {
        "id": "_m9kQZ-mpfLB",
        "outputId": "cf253c71-a838-4e11-ab92-732945a0d781",
        "colab": {
          "base_uri": "https://localhost:8080/"
        }
      },
      "id": "_m9kQZ-mpfLB",
      "execution_count": 16,
      "outputs": [
        {
          "output_type": "stream",
          "name": "stdout",
          "text": [
            "I cry World!\n"
          ]
        }
      ]
    },
    {
      "cell_type": "code",
      "source": [],
      "metadata": {
        "id": "jWJ4SOiVqWkb"
      },
      "id": "jWJ4SOiVqWkb",
      "execution_count": null,
      "outputs": []
    }
  ],
  "metadata": {
    "kernelspec": {
      "display_name": "rps-classification",
      "language": "python",
      "name": "python3"
    },
    "language_info": {
      "codemirror_mode": {
        "name": "ipython",
        "version": 3
      },
      "file_extension": ".py",
      "mimetype": "text/x-python",
      "name": "python",
      "nbconvert_exporter": "python",
      "pygments_lexer": "ipython3",
      "version": "3.11.11"
    },
    "colab": {
      "provenance": []
    }
  },
  "nbformat": 4,
  "nbformat_minor": 5
}